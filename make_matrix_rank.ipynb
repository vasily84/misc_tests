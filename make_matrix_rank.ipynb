{
 "cells": [
  {
   "cell_type": "markdown",
   "id": "84f79d78",
   "metadata": {},
   "source": [
    "## make_matrix_rank\n",
    "\n",
    "идея базируется на шуточной статье \"Visually Identifying Rank\n",
    "David F. Fouhey, Daniel Maturana, Random Forester Rufus von Woofles\"\n",
    "\n",
    "суть в том, чтобы создать модель МО, натренированную определять ранг матрицы без его прямого вычисления."
   ]
  },
  {
   "cell_type": "code",
   "execution_count": 2,
   "id": "eb4aecfe",
   "metadata": {},
   "outputs": [],
   "source": [
    "import numpy as np\n",
    "import plotly.express as px"
   ]
  },
  {
   "cell_type": "code",
   "execution_count": 29,
   "id": "118a4ff7",
   "metadata": {},
   "outputs": [
    {
     "name": "stdout",
     "output_type": "stream",
     "text": [
      "1\n",
      "1\n",
      "2\n",
      "3\n",
      "4\n",
      "5\n",
      "6\n",
      "7\n",
      "8\n",
      "9\n",
      "10\n",
      "11\n",
      "12\n",
      "13\n",
      "14\n",
      "15\n",
      "15\n",
      "15\n",
      "15\n",
      "15\n"
     ]
    }
   ],
   "source": [
    "def random_matrix(rank=10,msize=10):\n",
    "    \"\"\" сгенерировать матрицу чисел размером msizexmsize с заданным рангом rank \"\"\"\n",
    "    A = np.random.random(size=(msize,msize))\n",
    "    for i in range(msize-rank):\n",
    "        A[i,:] = np.random.random()*A[msize-1,:]\n",
    "    np.random.shuffle(A)\n",
    "    return A\n",
    "    \n",
    "\n",
    "def test_1():\n",
    "    for r in range(20):\n",
    "        A = random_matrix(r,15)\n",
    "        rank = np.linalg.matrix_rank(A)\n",
    "        print(rank)\n",
    "        #fig = px.imshow(A,title='rank='+str(rank))\n",
    "        #fig.show()\n",
    "        \n",
    "test_1()"
   ]
  },
  {
   "cell_type": "markdown",
   "id": "c08a3585",
   "metadata": {},
   "source": [
    "# PCA для и метод главных компонент как связан?"
   ]
  },
  {
   "cell_type": "code",
   "execution_count": 49,
   "id": "f8625312",
   "metadata": {},
   "outputs": [
    {
     "name": "stdout",
     "output_type": "stream",
     "text": [
      "rank=1 pca_rank=1\n",
      "rank=1 pca_rank=1\n",
      "rank=2 pca_rank=2\n",
      "rank=3 pca_rank=3\n",
      "rank=4 pca_rank=4\n",
      "rank=5 pca_rank=5\n",
      "rank=6 pca_rank=6\n",
      "rank=7 pca_rank=7\n",
      "rank=8 pca_rank=8\n",
      "rank=9 pca_rank=9\n",
      "rank=10 pca_rank=10\n",
      "rank=11 pca_rank=10\n",
      "rank=12 pca_rank=10\n",
      "rank=13 pca_rank=10\n",
      "rank=14 pca_rank=10\n",
      "rank=15 pca_rank=10\n",
      "rank=15 pca_rank=10\n",
      "rank=15 pca_rank=10\n",
      "rank=15 pca_rank=10\n",
      "rank=15 pca_rank=10\n"
     ]
    }
   ],
   "source": [
    "from sklearn.decomposition import PCA\n",
    "\n",
    "def test_pca_rank():\n",
    "    for r in range(20):\n",
    "        A1 = random_matrix(r,15)\n",
    "        pca = PCA(n_components=9).fit(A1)\n",
    "        a1 = pca.inverse_transform(pca.transform(A1))\n",
    "        rank = np.linalg.matrix_rank(A1)\n",
    "        rank1 = np.linalg.matrix_rank(a1)\n",
    "        print('rank='+str(rank)+' pca_rank='+str(rank1))\n",
    "        #fig = px.imshow(A1)\n",
    "        #fig.show()\n",
    "\n",
    "        #fig = px.imshow(a1)\n",
    "        #fig.show()\n",
    "    \n",
    "test_pca_rank()"
   ]
  }
 ],
 "metadata": {
  "kernelspec": {
   "display_name": "Python 3 (ipykernel)",
   "language": "python",
   "name": "python3"
  },
  "language_info": {
   "codemirror_mode": {
    "name": "ipython",
    "version": 3
   },
   "file_extension": ".py",
   "mimetype": "text/x-python",
   "name": "python",
   "nbconvert_exporter": "python",
   "pygments_lexer": "ipython3",
   "version": "3.7.11"
  }
 },
 "nbformat": 4,
 "nbformat_minor": 5
}
